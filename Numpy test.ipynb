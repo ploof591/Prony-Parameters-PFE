{
 "cells": [
  {
   "cell_type": "code",
   "execution_count": 95,
   "id": "8d40e20a-f454-4d49-8744-38a14793b938",
   "metadata": {},
   "outputs": [
    {
     "data": {
      "text/plain": [
       "array(['b', 'b', 'a', 'c', 'd', 'f'], dtype='<U1')"
      ]
     },
     "execution_count": 95,
     "metadata": {},
     "output_type": "execute_result"
    }
   ],
   "source": [
    "import numpy as np\n",
    "import pandas as pd\n",
    "import matplotlib.pyplot as plt \n",
    "test = np.array(['a','b','c','d','e','f'])\n",
    "test_2 = np.array(['','','','','',''])\n",
    "test_2[:] = test[np.array([1,1,0,2,3,5])]\n",
    "test_2"
   ]
  },
  {
   "cell_type": "code",
   "execution_count": 91,
   "id": "a79ff36a-ee67-4a8f-9bf2-ef17888faece",
   "metadata": {},
   "outputs": [],
   "source": [
    "a = pd.DataFrame(abs(np.random.randn(1000)*0.5 + 5))\n"
   ]
  },
  {
   "cell_type": "code",
   "execution_count": 92,
   "id": "8001cfc8-06ac-48d6-8e19-c077b5a5675d",
   "metadata": {},
   "outputs": [
    {
     "data": {
      "image/png": "[encoded data removed]",
      "text/plain": [
       "<Figure size 432x288 with 1 Axes>"
      ]
     },
     "metadata": {
      "needs_background": "light"
     },
     "output_type": "display_data"
    }
   ],
   "source": [
    "res = plt.hist(a, range = (4,6), bins = 100)"
   ]
  },
  {
   "cell_type": "code",
   "execution_count": 116,
   "id": "d83e6e34-48aa-4028-897d-d8a21c0f6b3a",
   "metadata": {},
   "outputs": [
    {
     "data": {
      "text/plain": [
       "6"
      ]
     },
     "execution_count": 116,
     "metadata": {},
     "output_type": "execute_result"
    }
   ],
   "source": [
    "array = np.random.randint( (2,1) , 7)\n",
    "np.min(array)\n",
    "np.max(array)\n",
    "arra"
   ]
  }
 ],
 "metadata": {
  "kernelspec": {
   "display_name": "Python 3 (ipykernel)",
   "language": "python",
   "name": "python3"
  },
  "language_info": {
   "codemirror_mode": {
    "name": "ipython",
    "version": 3
   },
   "file_extension": ".py",
   "mimetype": "text/x-python",
   "name": "python",
   "nbconvert_exporter": "python",
   "pygments_lexer": "ipython3",
   "version": "3.8.10"
  }
 },
 "nbformat": 4,
 "nbformat_minor": 5
}
